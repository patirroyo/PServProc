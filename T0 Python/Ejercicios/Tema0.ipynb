{
 "cells": [
  {
   "cell_type": "markdown",
   "metadata": {},
   "source": [
    "<p><b>Ejercicio 1:</b> Implementa un programa Python que PREGUNTE al usuario por dos números enteros (x, y) y muestre por pantalla la suma, resta, multiplicación, división y resto de ambos, con el siguiente formato:</p>\n",
    "                     <list>\n",
    "                        <ul>x + y = …</ul>\n",
    "                        <ul>x - y = …</ul>\n",
    "                        <ul>x * y = …</ul>\n",
    "                        <ul>x / y = …</ul>\n",
    "                        <ul>x % y = …</ul>\n",
    "                      </list>\n"
   ]
  },
  {
   "cell_type": "code",
   "execution_count": 9,
   "metadata": {},
   "outputs": [
    {
     "name": "stdout",
     "output_type": "stream",
     "text": [
      "has elegido el:  8\n",
      "has elegido el:  2\n",
      "x + y = 10\n",
      "x - y = 6\n",
      "x * y = 16\n",
      "x / y = 4.0\n",
      "x % y = 0\n"
     ]
    }
   ],
   "source": [
    "def el_pregunton():    \n",
    "    x = int(input(\"Dáme un número...\"))\n",
    "    print(\"has elegido el: \", x)\n",
    "\n",
    "    y = int(input(\"Dáme otro número...\"))\n",
    "    print(\"has elegido el: \", y)\n",
    "    \n",
    "    print('x + y =' , x + y)\n",
    "    print('x - y =' , x - y)\n",
    "    print('x * y =' , x * y)\n",
    "    print('x / y =' , x / y)\n",
    "    print('x % y =' , x % y)\n",
    "\n",
    "el_pregunton()"
   ]
  },
  {
   "cell_type": "markdown",
   "metadata": {},
   "source": [
    "<b>Ejercicio 2:</b>  Escribe un programa Python que pregunte al usuario por 10 números enteros y muestre por pantalla el número total de veces que el usuario ha introducido el 0, el número total de enteros mayores que 0 introducidos y el número total de enteros menores que 0 introducidos.\n"
   ]
  },
  {
   "cell_type": "code",
   "execution_count": 16,
   "metadata": {},
   "outputs": [
    {
     "name": "stdout",
     "output_type": "stream",
     "text": [
      "[1, 0, -3, 8, 0, -2, -5, 10, 3, 4]\n",
      "La cantidad de veces que se ha introducido el 0 es:  2\n",
      "La cantidad de veces que se ha introducido un número mayor de 0 es:  5\n",
      "La cantidad de veces que se ha introducido un número menor de 0 es:  3\n"
     ]
    }
   ],
   "source": [
    "def cuantos_ceros():    \n",
    "    numeros = []\n",
    "    for i in range(10):\n",
    "        numeros.append(int(input(\"Dáme un número...\")))\n",
    "    print(numeros)\n",
    "    numeros_mayores_0 = [num for num in numeros if num > 0]\n",
    "    numeros_menores_0 = [num for num in numeros if num < 0]\n",
    "    print('La cantidad de veces que se ha introducido el 0 es: ', numeros.count(0))\n",
    "    print('La cantidad de veces que se ha introducido un número mayor de 0 es: ', len(numeros_mayores_0))\n",
    "    print('La cantidad de veces que se ha introducido un número menor de 0 es: ', len(numeros_menores_0))\n",
    "\n",
    "cuantos_ceros()"
   ]
  },
  {
   "cell_type": "markdown",
   "metadata": {},
   "source": [
    "Ejercicio 3:  ¡IMPLEMENTA TU PRIMER JUEGO! Realiza un programa Python que adivine el número. El programa generará un número aleatorio entre 0 y 20 y luego irá pidiendo números al usuario indicando “mayor” o “menor” según sea mayor o menor con respecto al número generado aleatoriamente. El proceso termina cuando el usuario acierta, y deberá mostrar un mensaje de felicitaciones junto al número de intentos que ha necesitado el usuario.\n"
   ]
  },
  {
   "cell_type": "code",
   "execution_count": 15,
   "metadata": {},
   "outputs": [
    {
     "name": "stdout",
     "output_type": "stream",
     "text": [
      "6 es menor, llevas 1 intento(s)\n",
      "10 es menor, llevas 2 intento(s)\n",
      "10 es menor, llevas 3 intento(s)\n",
      "15 es menor, llevas 4 intento(s)\n",
      "19 es mayor, llevas 5 intento(s)\n",
      "Enhorabuena, has acertado en el intento: 6 el número que había pensado es 18\n"
     ]
    }
   ],
   "source": [
    "def el_primer_juego():\n",
    "    from random import randint\n",
    "    aleatorio = randint(0,20)\n",
    "    acierto = False\n",
    "    intentos = 0\n",
    "    while not acierto:\n",
    "        respuesta = int(input(\"¿Qué numero he pensado?\"))\n",
    "        intentos += 1\n",
    "        if int(respuesta) == aleatorio:\n",
    "            print(\"Enhorabuena, has acertado en el intento:\", intentos, \"el número que había pensado es\", aleatorio)\n",
    "            acierto = True\n",
    "        else:\n",
    "            #print(aleatorio)#para comprobar que no cambia el número pensado\n",
    "            if respuesta < aleatorio:\n",
    "                print(respuesta, \"es menor, llevas\",intentos,\"intento(s)\")\n",
    "            else:\n",
    "                print(respuesta, \"es mayor, llevas\",intentos,\"intento(s)\")\n",
    "            \n",
    "\n",
    "el_primer_juego()"
   ]
  },
  {
   "cell_type": "markdown",
   "metadata": {},
   "source": [
    "Ejercicio 4:  Implementa un programa Python que solicite al usuario una cadena de caracteres (String) y muestre por pantalla la longitud de esta.\n"
   ]
  },
  {
   "cell_type": "code",
   "execution_count": 20,
   "metadata": {},
   "outputs": [
    {
     "name": "stdout",
     "output_type": "stream",
     "text": [
      "La cadena ' Hola usuario anónimo de GitHub, gracias por hacerme un pull ' tiene 59 carácteres\n"
     ]
    }
   ],
   "source": [
    "def contar_caracteres():\n",
    "    cadena = input(\"Introduce una cadena de carácteres y te los cuento...\")\n",
    "    print(\"La cadena '\",cadena, \"' tiene\",len(cadena),\"carácteres\")\n",
    "\n",
    "contar_caracteres()"
   ]
  },
  {
   "cell_type": "markdown",
   "metadata": {},
   "source": [
    "Ejercicio 5:  Implementa un programa Python que solicite al usuario una cadena de caracteres (String) y muestre por pantalla el número de veces que aparece la sub-cadena “aaa” dentro de dicho String.\n"
   ]
  },
  {
   "cell_type": "code",
   "execution_count": 4,
   "metadata": {},
   "outputs": [
    {
     "name": "stdout",
     "output_type": "stream",
     "text": [
      "holaaa ¿qué taaal estaaás?\n",
      "La cadena 'aaa' aparece 2 veces\n"
     ]
    }
   ],
   "source": [
    "def contar_aaa():\n",
    "    cadena = input(\"Introduce una cadena de carácteres y te cuento las veces que aparece 'aaa'...\")\n",
    "    print(cadena)\n",
    "    print(\"La cadena 'aaa' aparece\",cadena.count('aaa'),\"veces\")\n",
    "\n",
    "contar_aaa()"
   ]
  },
  {
   "cell_type": "markdown",
   "metadata": {},
   "source": [
    "Ejercicio 6:  Implementa un programa Python que solicite al usuario una cadena de caracteres (String) y muestre por pantalla dicha cadena, pero con el primer y último carácter cambiados de posición.\n"
   ]
  },
  {
   "cell_type": "code",
   "execution_count": 5,
   "metadata": {},
   "outputs": [
    {
     "name": "stdout",
     "output_type": "stream",
     "text": [
      "esto puede que funcionE\n"
     ]
    }
   ],
   "source": [
    "def reverse_alfa_omega():\n",
    "    cadena = input(\"Introduce una cadena de carácteres y te cuento cambio el Α por el  Ω\")\n",
    "    cambio = cadena[-1] + cadena[1:-1] + cadena[0]\n",
    "    print(cambio)\n",
    "\n",
    "reverse_alfa_omega()"
   ]
  },
  {
   "cell_type": "markdown",
   "metadata": {},
   "source": [
    "Ejercicio 7:  Implementa un programa Python que solicite al usuario una cadena de caracteres y devuelva dicha cadena, pero al revés.\n"
   ]
  },
  {
   "cell_type": "code",
   "execution_count": 2,
   "metadata": {},
   "outputs": [
    {
     "name": "stdout",
     "output_type": "stream",
     "text": [
      "!osayaP nu ecerap detsU¡ :añariP aíced omoC\n"
     ]
    }
   ],
   "source": [
    "def sever_al():\n",
    "    cadena = input(\"Introduce una cadena de carácteres y te la devuelvo al revés\")\n",
    "    cambio = cadena[::-1]\n",
    "    print(cambio)\n",
    "\n",
    "sever_al()"
   ]
  },
  {
   "cell_type": "markdown",
   "metadata": {},
   "source": [
    "Ejercicio 8:  Implementa un programa Python con un método llamado sum(int [] tabla) que muestre por pantalla el resultado de sumar todos los elementos de la tabla pasada como parámetro.\n"
   ]
  },
  {
   "cell_type": "code",
   "execution_count": 2,
   "metadata": {},
   "outputs": [
    {
     "name": "stdout",
     "output_type": "stream",
     "text": [
      "55\n"
     ]
    }
   ],
   "source": [
    "def sum(tabla):\n",
    "    suma = 0\n",
    "    for i in tabla:\n",
    "        suma += i\n",
    "    print(suma)\n",
    "\n",
    "sum([1,2,3,4,5,6,7,8,9,10])\n"
   ]
  },
  {
   "cell_type": "markdown",
   "metadata": {},
   "source": [
    "Ejercicio 9:  Implementa un programa Python con un método llamado indexContains(String[] tabla, String cadena) que devuelva el índice de la tabla cuyo valor es igual al valor de “cadena”. En caso de no haber ningún valor igual, devuelve -1\n"
   ]
  },
  {
   "cell_type": "code",
   "execution_count": 10,
   "metadata": {},
   "outputs": [
    {
     "name": "stdout",
     "output_type": "stream",
     "text": [
      "-1\n",
      "' culo ' esta en la posición 2\n"
     ]
    }
   ],
   "source": [
    "def indexContains(tabla, cadena):\n",
    "    if cadena in tabla:\n",
    "        print(\"'\",cadena, \"' esta en la posición\", tabla.index(cadena))\n",
    "    else:\n",
    "        print(-1)\n",
    "\n",
    "indexContains(['hola', 'caca', 'culo', 'pedo', 'pis'], '')\n",
    "indexContains(['hola', 'caca', 'culo', 'pedo', 'pis'], 'culo')"
   ]
  },
  {
   "cell_type": "markdown",
   "metadata": {},
   "source": [
    "Ejercicio 10:  Implementa un método Python llamado mayorYmenor, el cual recibe como parámetro una tabla de Strings y muestra por pantalla el String con mayor longitud y el String con menor longitud.\n"
   ]
  },
  {
   "cell_type": "code",
   "execution_count": 14,
   "metadata": {},
   "outputs": [
    {
     "name": "stdout",
     "output_type": "stream",
     "text": [
      "El mayor String es Fernandido\n",
      "El string menor es pis\n"
     ]
    }
   ],
   "source": [
    "def mayorYmenor(tabla):\n",
    "    tabla.sort()\n",
    "    mayor = tabla[0]\n",
    "    menor = tabla[-1]\n",
    "    print(\"El mayor String es\", mayor)\n",
    "    print(\"El string menor es\", menor)\n",
    "\n",
    "mayorYmenor(['hola', 'Fernandido', 'pis'])\n"
   ]
  },
  {
   "cell_type": "markdown",
   "metadata": {},
   "source": [
    "<b>Ejercicio 11:</b> Tenemos la siguiente tabla multidimensional, la cual almacena por cada una de sus filas el salario trimestral de cada uno de los empleados de la empresa.\n",
    "int salarios[][] = { {700, 900, 1300} , {1000, 950, 1080}, {1300, 930, 1200} }\n",
    "<p>A su vez, disponemos también de una tabla empleados, con los nombres de los trabajadores:\n",
    "String empleados[] = {Javier María, Antonio Muñoz, Isabel Allende}\n",
    "Implementa un programa Python que muestre por pantalla lo siguiente:</p>\n",
    "<list>\n",
    "<li>Javier Marías -> 700 + 900 + 1300 = 2900€</li>\n",
    "<li>Antonio Muñoz -> 1000 + 950 + 1080 = 3030€</li>\n",
    "<li>Isabel Allende -> 1300 + 930 + 1200 = 3430€</li>\n",
    "</list>\n"
   ]
  },
  {
   "cell_type": "code",
   "execution_count": 1,
   "metadata": {},
   "outputs": [
    {
     "name": "stdout",
     "output_type": "stream",
     "text": [
      "Javier María -> 700 + 900 + 1300 = 2900 €\n",
      "Antonio Muñoz -> 1000 + 950 + 1080 = 3030 €\n",
      "Isabel Allende -> 1300 + 930 + 1200 = 3430 €\n"
     ]
    }
   ],
   "source": [
    "def el_administrativo_eficiente():\n",
    "    salarios = [[700, 900, 1300], [1000, 950, 1080], [1300, 930, 1200]]\n",
    "    empleados = ['Javier María', 'Antonio Muñoz', 'Isabel Allende']\n",
    "\n",
    "    for i in range(len(empleados)):\n",
    "        total_salario = sum(salarios[i])\n",
    "        print(empleados[i], '->', ' + '.join(map(str, salarios[i])), '=', total_salario, '€')\n",
    "\n",
    "el_administrativo_eficiente()"
   ]
  },
  {
   "cell_type": "markdown",
   "metadata": {},
   "source": [
    "<p><b>Ejercicio 12:</b> Crea una clase llamada Cuenta que tendrá los siguientes atributos: titular y cantidad (puede tener decimales).</p><p> El titular será obligatorio y la cantidad es opcional. Crea sus métodos get, set y toString. Tendrá dos métodos especiales:</p>\n",
    "<list>\n",
    "    <li>ingresar(double cantidad): se ingresa una cantidad a la cuenta si la cantidad introducida es negativa, no se hará nada.</li>\n",
    "    <li>retirar(double cantidad): se retira una cantidad a la cuenta, si restando la cantidad actual a la que nos pasan es negativa, la cantidad de la cuenta pasa a ser 0.</li>\n",
    "</list>\n"
   ]
  },
  {
   "cell_type": "code",
   "execution_count": 16,
   "metadata": {},
   "outputs": [
    {
     "name": "stdout",
     "output_type": "stream",
     "text": [
      "Alberto 0\n",
      "Alberto 0\n",
      "Alberto 1000\n",
      "Alberto 900\n",
      "Alberto 0\n",
      "Alberto 1000\n",
      "Alberto 1000\n",
      "Alberto 2000\n",
      "Alberto 1900\n",
      "Alberto 900\n"
     ]
    }
   ],
   "source": [
    "class Cuenta:\n",
    "    def __init__(self, titular, cantidad = 0):\n",
    "        self.titular = titular\n",
    "        self.cantidad = cantidad\n",
    "        pass\n",
    "    def get_titular(self):\n",
    "        return getattr(self, 'titular')\n",
    "    \n",
    "    def set_titular(self, titular):\n",
    "        return setattr(self, 'titular', titular)\n",
    "    \n",
    "    def get_cantidad(self):\n",
    "        return getattr(self, 'cantidad')\n",
    "    \n",
    "    def set_cantidad(self, cantidad):\n",
    "        return setattr(self, 'cantidad', cantidad)\n",
    "    \n",
    "    def to_string(self):\n",
    "        return str(self)\n",
    "    \n",
    "    def ingresar(self, ingreso):\n",
    "        if ingreso >= 0:\n",
    "            self.set_cantidad(self.get_cantidad() + ingreso)\n",
    "    \n",
    "    def retirar(self, retirada):\n",
    "        if retirada < 0:\n",
    "            return False\n",
    "        if self.get_cantidad() - retirada <= 0:\n",
    "            self.set_cantidad(0)\n",
    "        else:\n",
    "            self.set_cantidad(self.get_cantidad()-retirada)\n",
    "        return True\n",
    "\n",
    "cuenta1 = Cuenta('Alberto')\n",
    "print(cuenta1.get_titular(), cuenta1.get_cantidad())\n",
    "cuenta1.ingresar(-1000)\n",
    "print(cuenta1.get_titular(), cuenta1.get_cantidad())\n",
    "cuenta1.ingresar(1000)\n",
    "print(cuenta1.get_titular(), cuenta1.get_cantidad())\n",
    "cuenta1.retirar(100)\n",
    "print(cuenta1.get_titular(), cuenta1.get_cantidad())\n",
    "cuenta1.retirar(1000)\n",
    "print(cuenta1.get_titular(), cuenta1.get_cantidad())\n",
    "\n",
    "cuenta1 = Cuenta('Alberto',1000)\n",
    "print(cuenta1.get_titular(), cuenta1.get_cantidad())\n",
    "cuenta1.ingresar(-1000)\n",
    "print(cuenta1.get_titular(), cuenta1.get_cantidad())\n",
    "cuenta1.ingresar(1000)\n",
    "print(cuenta1.get_titular(), cuenta1.get_cantidad())\n",
    "cuenta1.retirar(100)\n",
    "print(cuenta1.get_titular(), cuenta1.get_cantidad())\n",
    "cuenta1.retirar(1000)\n",
    "print(cuenta1.get_titular(), cuenta1.get_cantidad())\n"
   ]
  },
  {
   "cell_type": "markdown",
   "metadata": {},
   "source": [
    "<p><b>Ejercicio 13:</b> Implementa la clase “Matriz” con los atributos int rows, int columns e int[rows][columns] matrix, que contenga los siguientes métodos: </p>\n",
    "<list>\n",
    "    <li>getNumberRows(): devuelve el número de filas de la matriz.</li>\n",
    "    <li>getNumberColumns(): devuelve el número de columnas de la matriz.</li>\n",
    "    <li>setElement(int x, int j, int element): cambia el valor de la matriz en [x][j] por el valor de [element].\n",
    "    <li>addMatrix(int[][] matrix): suma todos los elementos de la matriz actual a los elementos de [matrix], y el resultado se almacena en la matriz inicial. Si [matrix] no tiene el mismo número de filas y columnas que la matriz inicial, la operación no se puede realizar (notificalo).</li>\n",
    "    <li>multMatrix(int[][] matrix]: multiplica todos los elementos de la matriz actual a los elementos de [matrix], y el resultado se almacena en la matriz inicial. Si [matrix] no tiene el mismo número de filas y columnas que la matriz inicial, la operación no se puede realizar (notificalo).</li>\n",
    "</list>\n"
   ]
  },
  {
   "cell_type": "code",
   "execution_count": 1,
   "metadata": {},
   "outputs": [
    {
     "name": "stdout",
     "output_type": "stream",
     "text": [
      "matriz1 [[4, 2, 0], [8, 1, 7], [1, 5, 2]]\n",
      "matriz2 [[6, 7], [4, 3], [7, 6], [0, 4]]\n",
      "matriz3 [[9, 1], [4, 5], [6, 1]]\n",
      "matriz4 [[4, 8, 8], [7, 2, 6], [7, 0, 4]]\n",
      "No se pueden sumar matrices que no son del mismo tamaño\n",
      "matriz1.add2 [[4, 2, 0], [8, 1, 7], [1, 5, 2]]\n",
      "No se pueden sumar matrices que no son del mismo tamaño\n",
      "matriz1.add3 [[4, 2, 0], [8, 1, 7], [1, 5, 2]]\n",
      "matriz1.add4 [[8, 10, 8], [15, 3, 13], [8, 5, 6]]\n",
      "No se pueden multiplicar matrices con dimensiones incompatibles\n",
      "matriz1.multi2 [[8, 10, 8], [15, 3, 13], [8, 5, 6]]\n",
      "matriz1.multi3 [[160, 66], [225, 43], [128, 39]]\n",
      "No se pueden multiplicar matrices con dimensiones incompatibles\n",
      "matriz1.multi4 [[160, 66], [225, 43], [128, 39]]\n"
     ]
    }
   ],
   "source": [
    "\n",
    "from random import randint\n",
    "\n",
    "class Matriz:\n",
    "    def __init__(self, rows, columns):\n",
    "        self.rows = rows\n",
    "        self.columns = columns\n",
    "        self.matrix = [[randint(0, 9) for _ in range(columns)] for _ in range(rows)]\n",
    "\n",
    "    def get_number_rows(self):\n",
    "        return self.rows\n",
    "\n",
    "    def get_number_columns(self):\n",
    "        return self.columns\n",
    "\n",
    "    def set_element(self, x, y, element):\n",
    "        if 0 <= x < self.rows and 0 <= y < self.columns:\n",
    "            self.matrix[x][y] = element\n",
    "        else:\n",
    "            print(\"Índices fuera de rango\")\n",
    "\n",
    "    def add_matrix(self, other_matrix):\n",
    "        if self.get_number_rows() == other_matrix.get_number_rows() and self.get_number_columns() == other_matrix.get_number_columns():\n",
    "            for i in range(self.get_number_rows()):\n",
    "                for j in range(self.get_number_columns()):\n",
    "                    self.set_element(i, j, self.matrix[i][j] + other_matrix[i, j])\n",
    "        else:\n",
    "            print(\"No se pueden sumar matrices que no son del mismo tamaño\")\n",
    "\n",
    "    def mult_matrix(self, matrix):\n",
    "        if self.get_number_columns() == matrix.get_number_rows():\n",
    "            result = [[0 for _ in range(matrix.get_number_columns())] for _ in range(self.get_number_rows())]\n",
    "            for i in range(self.get_number_rows()):\n",
    "                for j in range(matrix.get_number_columns()):\n",
    "                    sum = 0\n",
    "                    for k in range(self.get_number_columns()):\n",
    "                        sum += self.matrix[i][k] * matrix[k, j]  # Utilizar __getitem__\n",
    "                    result[i][j] = sum\n",
    "            self.matrix = result\n",
    "            self.columns = matrix.get_number_columns()\n",
    "        else:\n",
    "            print(\"No se pueden multiplicar matrices con dimensiones incompatibles\")\n",
    "\n",
    "    def __getitem__(self, index):\n",
    "        return self.matrix[index[0]][index[1]]\n",
    "\n",
    "\n",
    "#test\n",
    "matriz1 = Matriz(3, 3)\n",
    "matriz2 = Matriz(4, 2)\n",
    "matriz3 = Matriz(3, 2)\n",
    "matriz4 = Matriz(3, 3)\n",
    "print('matriz1', matriz1.matrix)\n",
    "print('matriz2', matriz2.matrix)\n",
    "print('matriz3', matriz3.matrix)\n",
    "print('matriz4', matriz4.matrix)\n",
    "matriz1.add_matrix(matriz2)\n",
    "print('matriz1.add2',matriz1.matrix)\n",
    "matriz1.add_matrix(matriz3)\n",
    "print('matriz1.add3',matriz1.matrix)\n",
    "matriz1.add_matrix(matriz4)\n",
    "print('matriz1.add4',matriz1.matrix)\n",
    "matriz1.mult_matrix(matriz2)\n",
    "print('matriz1.multi2',matriz1.matrix)\n",
    "matriz1.mult_matrix(matriz3)\n",
    "print('matriz1.multi3',matriz1.matrix)\n",
    "matriz1.mult_matrix(matriz4)\n",
    "print('matriz1.multi4',matriz1.matrix)\n",
    "\n",
    "\n"
   ]
  },
  {
   "cell_type": "markdown",
   "metadata": {},
   "source": [
    "Ejercicio 14: Realiza un programa en Python en el que muestres un menú que te permita 3 opciones:\n",
    "                - 1. Volcado (escritura) de una lista con todos los números pares comprendidos entre 0 y 100.\n",
    "                - 2. Mostrar (lectura) por pantalla el contenido del fichero de texto creado.\n",
    "                - 3. Salir del Programa.\n"
   ]
  },
  {
   "cell_type": "code",
   "execution_count": 23,
   "metadata": {},
   "outputs": [
    {
     "name": "stdout",
     "output_type": "stream",
     "text": [
      "Buenas, soy el parificador\n",
      " Hoy te voy a dar tres opciones para que elijas\n",
      "     1. Volcado(escritura) de una lista con todos los número pares comprendidos entre 0 y 100\n",
      "     2. Mostrar (lectura) del fichero de texto creado en la opción 1\n",
      "     3. Salir del programa\n",
      "Volcado realizado\n",
      "0 2 4 6 8 10 \n",
      "12 14 16 18 20 \n",
      "22 24 26 28 30 \n",
      "32 34 36 38 40 \n",
      "42 44 46 48 50 \n",
      "52 54 56 58 60 \n",
      "62 64 66 68 70 \n",
      "72 74 76 78 80 \n",
      "82 84 86 88 90 \n",
      "92 94 96 98 100 \n",
      "\n",
      "Lectura realizada\n",
      "Adiós\n"
     ]
    },
    {
     "data": {
      "text/plain": [
       "<__main__.Parificador at 0x11ba1e290>"
      ]
     },
     "execution_count": 23,
     "metadata": {},
     "output_type": "execute_result"
    }
   ],
   "source": [
    "class Parificador:\n",
    "    def __init__(self):\n",
    "        print(\"Buenas, soy el parificador\\n Hoy te voy a dar tres opciones para que elijas\")\n",
    "        print(\"     1. Volcado(escritura) de una lista con todos los número pares comprendidos entre 0 y 100\")\n",
    "        print(\"     2. Mostrar (lectura) del fichero de texto creado en la opción 1\")\n",
    "        print(\"     3. Salir del programa\")\n",
    "        opcion = int(input(\"¿Qué opción eliges?\"))\n",
    "        while opcion != 3:\n",
    "            if opcion == 1:\n",
    "                self.volcar()\n",
    "            elif opcion == 2:\n",
    "                self.mostrar()\n",
    "            else:\n",
    "                print(\"Opción no válida\")\n",
    "            opcion = int(input(\"¿Qué opción eliges?\"))\n",
    "        print(\"Adiós\")\n",
    "\n",
    "    def volcar(self):\n",
    "        with open('parificador.txt', 'w') as archivo:\n",
    "            for i in range(0, 101, 2):\n",
    "                archivo.write(str(i) + ' ')\n",
    "                if i % 10 == 0 and i > 0:\n",
    "                    archivo.write('\\n')\n",
    "        archivo.close()\n",
    "        print(\"Volcado realizado\")\n",
    "\n",
    "    def mostrar(self):\n",
    "        archivo = open('parificador.txt', 'r')\n",
    "        mensaje = archivo.read()\n",
    "        print(mensaje)\n",
    "        archivo.close()\n",
    "        print(\"Lectura realizada\")\n",
    "\n",
    "\n",
    "Parificador()    "
   ]
  },
  {
   "cell_type": "markdown",
   "metadata": {},
   "source": [
    "Ejercicio 15: Crea un fichero de texto con el nombre y contenido que tú desees. Por ejemplo, Ejercicio15.txt. Realiza un programa en Python que lea el fichero <<Ejercicio15.txt>> y muestre su contenido por pantalla sin espacios. Por ejemplo, si el fichero contiene el siguiente texto “Hola que haces”, deberá mostrar “Holaquehaces”."
   ]
  },
  {
   "cell_type": "code",
   "execution_count": 4,
   "metadata": {},
   "outputs": [
    {
     "name": "stdout",
     "output_type": "stream",
     "text": [
      "Buenas, soy el lecturador\n",
      " Hoy te voy a dar tres opciones para que elijas\n",
      "     1. Creación(escritura) de un archivo con el texto que me des\n",
      "     2. Mostrar (lectura) del fichero de texto creado en la opción 1 sin espacios\n",
      "     3. Mostrar (lectura) del fichero de texto creado en la opción 1 sin espacios\n",
      "     4. Salir del programa\n",
      "El cielo está enladrillado, ¿quién lo desenladrillará? El desenladrillador que lo desenladrille buen desenladrillador será.\n",
      "Lectura realizada\n",
      "Elcieloestáenladrillado,¿quiénlodesenladrillará?Eldesenladrilladorquelodesenladrillebuendesenladrilladorserá.\n",
      "Lectura realizada\n",
      "Adiós\n"
     ]
    },
    {
     "data": {
      "text/plain": [
       "<__main__.Lecturador at 0x104eba450>"
      ]
     },
     "execution_count": 4,
     "metadata": {},
     "output_type": "execute_result"
    }
   ],
   "source": [
    "class Lecturador:\n",
    "    def __init__(self):\n",
    "        print(\"Buenas, soy el lecturador\\n Hoy te voy a dar tres opciones para que elijas\")\n",
    "        print(\"     1. Creación(escritura) de un archivo con el texto que me des\")\n",
    "        print(\"     2. Mostrar (lectura) del fichero de texto creado en la opción 1 sin espacios\")\n",
    "        print(\"     3. Mostrar (lectura) del fichero de texto creado en la opción 1 sin espacios\")\n",
    "        print(\"     4. Salir del programa\")\n",
    "        opcion = int(input(\"¿Qué opción eliges?\"))\n",
    "        while opcion != 4:\n",
    "            if opcion == 1:\n",
    "                self.volcar()\n",
    "            elif opcion == 2:\n",
    "                self.mostrar(True)\n",
    "            elif opcion == 3:\n",
    "                self.mostrar(False)\n",
    "            else:\n",
    "                print(\"Opción no válida\")\n",
    "            opcion = int(input(\"¿Qué opción eliges?\"))\n",
    "        print(\"Adiós\")\n",
    "\n",
    "    def volcar(self):\n",
    "        texto = input(\"¿Qué ponemos?\")\n",
    "        archivo = open('lecturador.txt', 'w')\n",
    "        archivo.write(texto)\n",
    "        archivo.close()\n",
    "        print(\"Volcado realizado\")\n",
    "\n",
    "    def mostrar(self, espacios):\n",
    "        archivo = open('lecturador.txt', 'r')\n",
    "        if not espacios:\n",
    "            mensaje = archivo.read().replace(' ', '')\n",
    "        else:\n",
    "            mensaje = archivo.read()\n",
    "        print(mensaje)\n",
    "        archivo.close()\n",
    "        print(\"Lectura realizada\")\n",
    "\n",
    "\n",
    "Lecturador()   "
   ]
  }
 ],
 "metadata": {
  "kernelspec": {
   "display_name": "Python 3",
   "language": "python",
   "name": "python3"
  },
  "language_info": {
   "codemirror_mode": {
    "name": "ipython",
    "version": 3
   },
   "file_extension": ".py",
   "mimetype": "text/x-python",
   "name": "python",
   "nbconvert_exporter": "python",
   "pygments_lexer": "ipython3",
   "version": "3.11.6"
  }
 },
 "nbformat": 4,
 "nbformat_minor": 2
}
