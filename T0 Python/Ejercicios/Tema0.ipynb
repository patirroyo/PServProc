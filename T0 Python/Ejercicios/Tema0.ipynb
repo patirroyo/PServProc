{
 "cells": [
  {
   "cell_type": "markdown",
   "metadata": {},
   "source": [
    "<p><b>Ejercicio 1:</b> Implementa un programa Python que PREGUNTE al usuario por dos números enteros (x, y) y muestre por pantalla la suma, resta, multiplicación, división y resto de ambos, con el siguiente formato:</p>\n",
    "                     <list>\n",
    "                        <ul>x + y = …</ul>\n",
    "                        <ul>x - y = …</ul>\n",
    "                        <ul>x * y = …</ul>\n",
    "                        <ul>x / y = …</ul>\n",
    "                        <ul>x % y = …</ul>\n",
    "                      </list>\n"
   ]
  },
  {
   "cell_type": "code",
   "execution_count": 8,
   "metadata": {},
   "outputs": [
    {
     "name": "stdout",
     "output_type": "stream",
     "text": [
      "x + y = 10\n",
      "x - y = 0\n",
      "x * y = 25\n",
      "x / y = 1.0\n",
      "x % y = 0\n"
     ]
    }
   ],
   "source": [
    "x = int(input(\"Dáme un número...\"))\n",
    "y = int(input(\"Dáme otro número...\"))\n",
    "print('x + y =' , x + y)\n",
    "print('x - y =' , x - y)\n",
    "print('x * y =' , x * y)\n",
    "print('x / y =' , x / y)\n",
    "print('x % y =' , x % y)\n"
   ]
  },
  {
   "cell_type": "markdown",
   "metadata": {},
   "source": [
    "<b>Ejercicio 2:</b>  Escribe un programa Python que pregunte al usuario por 10 números enteros y muestre por pantalla el número total de veces que el usuario ha introducido el 0, el número total de enteros mayores que 0 introducidos y el número total de enteros menores que 0 introducidos.\n"
   ]
  },
  {
   "cell_type": "code",
   "execution_count": null,
   "metadata": {},
   "outputs": [],
   "source": []
  },
  {
   "cell_type": "markdown",
   "metadata": {},
   "source": [
    "Ejercicio 3:  ¡IMPLEMENTA TU PRIMER JUEGO! Realiza un programa Python que adivine el número. El programa generará un número aleatorio entre 0 y 20 y luego irá pidiendo números al usuario indicando “mayor” o “menor” según sea mayor o menor con respecto al número generado aleatoriamente. El proceso termina cuando el usuario acierta, y deberá mostrar un mensaje de felicitaciones junto al número de intentos que ha necesitado el usuario.\n"
   ]
  },
  {
   "cell_type": "code",
   "execution_count": null,
   "metadata": {},
   "outputs": [],
   "source": []
  },
  {
   "cell_type": "markdown",
   "metadata": {},
   "source": [
    "Ejercicio 4:  Implementa un programa Python que solicite al usuario una cadena de caracteres (String) y muestre por pantalla la longitud de esta.\n"
   ]
  },
  {
   "cell_type": "code",
   "execution_count": null,
   "metadata": {},
   "outputs": [],
   "source": []
  },
  {
   "cell_type": "markdown",
   "metadata": {},
   "source": [
    "Ejercicio 5:  Implementa un programa Python que solicite al usuario una cadena de caracteres (String) y muestre por pantalla el número de veces que aparece la sub-cadena “aaa” dentro de dicho String.\n"
   ]
  },
  {
   "cell_type": "code",
   "execution_count": null,
   "metadata": {},
   "outputs": [],
   "source": []
  },
  {
   "cell_type": "markdown",
   "metadata": {},
   "source": [
    "Ejercicio 6:  Implementa un programa Python que solicite al usuario una cadena de caracteres (String) y muestre por pantalla dicha cadena, pero con el primer y último carácter cambiados de posición.\n"
   ]
  },
  {
   "cell_type": "code",
   "execution_count": null,
   "metadata": {},
   "outputs": [],
   "source": []
  },
  {
   "cell_type": "markdown",
   "metadata": {},
   "source": [
    "Ejercicio 7:  Implementa un programa Python que solicite al usuario una cadena de caracteres y devuelva dicha cadena, pero al revés.\n"
   ]
  },
  {
   "cell_type": "code",
   "execution_count": null,
   "metadata": {},
   "outputs": [],
   "source": []
  },
  {
   "cell_type": "markdown",
   "metadata": {},
   "source": [
    "Ejercicio 8:  Implementa un programa Python con un método llamado sum(int [] tabla) que muestre por pantalla el resultado de sumar todos los elementos de la tabla pasada como parámetro.\n"
   ]
  },
  {
   "cell_type": "code",
   "execution_count": null,
   "metadata": {},
   "outputs": [],
   "source": []
  },
  {
   "cell_type": "markdown",
   "metadata": {},
   "source": [
    "Ejercicio 9:  Implementa un programa Python con un método llamado indexContains(String[] tabla, String cadena) que devuelva el índice de la tabla cuyo valor es igual al valor de “cadena”. En caso de no haber ningún valor igual, devuelve -1\n"
   ]
  },
  {
   "cell_type": "code",
   "execution_count": null,
   "metadata": {},
   "outputs": [],
   "source": []
  },
  {
   "cell_type": "markdown",
   "metadata": {},
   "source": [
    "Ejercicio 10:  Implementa un método Python llamado mayorYmenor, el cual recibe como parámetro una tabla de Strings y muestra por pantalla el String con mayor longitud y el String con menor longitud.\n"
   ]
  },
  {
   "cell_type": "code",
   "execution_count": null,
   "metadata": {},
   "outputs": [],
   "source": []
  },
  {
   "cell_type": "markdown",
   "metadata": {},
   "source": [
    "Ejercicio 11: Tenemos la siguiente tabla multidimensional, la cual almacena por cada una de sus filas el salario trimestral de cada uno de los empleados de la empresa.\n",
    "int salarios[][] = { {700, 900, 1300} , {1000, 950, 1080}, {1300, 930, 1200} }\n",
    "A su vez, disponemos también de una tabla empleados, con los nombres de los trabajadores:\n",
    "String empleados[] = {Javier María, Antonio Muñoz, Isabel Allende}\n",
    "Implementa un programa Python que muestre por pantalla lo siguiente:\n",
    "Javier Marías -> 700 + 900 + 1300 = 2900€\n",
    "Antonio Muñoz -> 1000 + 950 + 1080 = 3030€\n",
    "Isabel Allende -> 1300 + 930 + 1200 = 3430€\n"
   ]
  },
  {
   "cell_type": "code",
   "execution_count": null,
   "metadata": {},
   "outputs": [],
   "source": []
  },
  {
   "cell_type": "markdown",
   "metadata": {},
   "source": [
    "Ejercicio 12: Crea una clase llamada Cuenta que tendrá los siguientes atributos: titular y cantidad (puede tener decimales). El titular será obligatorio y la cantidad es opcional. Crea sus métodos get, set y toString. Tendrá dos métodos especiales:\n",
    "                 - ingresar(double cantidad): se ingresa una cantidad a la cuenta si la cantidad introducida es negativa, no se hará nada.\n",
    "                 - retirar(double cantidad): se retira una cantidad a la cuenta, si restando la cantidad actual a la que nos pasan es negativa, la cantidad de la cuenta pasa a ser 0.\n"
   ]
  },
  {
   "cell_type": "code",
   "execution_count": null,
   "metadata": {},
   "outputs": [],
   "source": []
  },
  {
   "cell_type": "markdown",
   "metadata": {},
   "source": [
    "Ejercicio 13: Implementa la clase “Matriz” con los atributos int rows, int columns e int[rows][columns] matrix, que contenga los siguientes métodos: \n",
    "                - getNumberRows(): devuelve el número de filas de la matriz.\n",
    "                - getNumberColumns(): devuelve el número de columnas de la matriz.\n",
    "                - setElement(int x, int j, int element): cambia el valor de la matriz en [x][j] por el valor de [element].\n",
    "                - addMatrix(int[][] matrix): suma todos los elementos de la matriz actual a los elementos de [matrix], y el resultado se almacena en la matriz inicial. Si [matrix] no tiene el mismo número de filas y columnas que la matriz inicial, la operación no se puede realizar (notificalo).\n",
    "                - multMatrix(int[][] matrix]: multiplica todos los elementos de la matriz actual a los elementos de [matrix], y el resultado se almacena en la matriz inicial. Si [matrix] no tiene el mismo número de filas y columnas que la matriz inicial, la operación no se puede realizar (notificalo).\n"
   ]
  },
  {
   "cell_type": "code",
   "execution_count": null,
   "metadata": {},
   "outputs": [],
   "source": []
  },
  {
   "cell_type": "markdown",
   "metadata": {},
   "source": [
    "Ejercicio 14: Realiza un programa en Python en el que muestres un menú que te permita 3 opciones:\n",
    "                - 1. Volcado (escritura) de una lista con todos los números pares comprendidos entre 0 y 100.\n",
    "                - 2. Mostrar (lectura) por pantalla el contenido del fichero de texto creado.\n",
    "                - 3. Salir del Programa.\n"
   ]
  },
  {
   "cell_type": "code",
   "execution_count": null,
   "metadata": {},
   "outputs": [],
   "source": []
  },
  {
   "cell_type": "markdown",
   "metadata": {},
   "source": [
    "Ejercicio 15: Crea un fichero de texto con el nombre y contenido que tú desees. Por ejemplo, Ejercicio15.txt. Realiza un programa en Python que lea el fichero <<Ejercicio15.txt>> y muestre su contenido por pantalla sin espacios. Por ejemplo, si el fichero contiene el siguiente texto “Hola que haces”, deberá mostrar “Holaquehaces”."
   ]
  },
  {
   "cell_type": "markdown",
   "metadata": {},
   "source": []
  },
  {
   "cell_type": "markdown",
   "metadata": {},
   "source": []
  }
 ],
 "metadata": {
  "kernelspec": {
   "display_name": "Python 3",
   "language": "python",
   "name": "python3"
  },
  "language_info": {
   "codemirror_mode": {
    "name": "ipython",
    "version": 3
   },
   "file_extension": ".py",
   "mimetype": "text/x-python",
   "name": "python",
   "nbconvert_exporter": "python",
   "pygments_lexer": "ipython3",
   "version": "3.11.6"
  }
 },
 "nbformat": 4,
 "nbformat_minor": 2
}
